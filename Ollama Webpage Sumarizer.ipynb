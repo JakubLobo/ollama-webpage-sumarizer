{
 "cells": [
  {
   "cell_type": "code",
   "execution_count": 1,
   "id": "02f3cdfd-01d6-4c61-9519-1eabce65d8d2",
   "metadata": {},
   "outputs": [],
   "source": [
    "import os\n",
    "import requests\n",
    "from dotenv import load_dotenv\n",
    "from bs4 import BeautifulSoup\n",
    "from IPython.display import Markdown, display\n",
    "import ollama"
   ]
  },
  {
   "cell_type": "code",
   "execution_count": 3,
   "id": "82d7d21d-7e88-40d0-a942-53204b0171b8",
   "metadata": {},
   "outputs": [],
   "source": [
    "class Website:\n",
    "\n",
    "    def __init__(self, url):\n",
    "        \"\"\"\n",
    "        Create this Website object from the given url using the BeautifulSoup library\n",
    "        \"\"\"\n",
    "        self.url = url\n",
    "        response = requests.get(url)\n",
    "        soup = BeautifulSoup(response.content, 'html.parser')\n",
    "        self.title = soup.title.string if soup.title else \"No title found\"\n",
    "        for irrelevant in soup.body([\"script\", \"style\", \"img\", \"input\"]):\n",
    "            irrelevant.decompose()\n",
    "        self.text = soup.body.get_text(separator=\"\\n\", strip=True)"
   ]
  },
  {
   "cell_type": "code",
   "execution_count": 5,
   "id": "e806551d-dba9-4869-9fd6-728089149e7a",
   "metadata": {},
   "outputs": [],
   "source": [
    "system_prompt = \"You are an assistant that analyzes the contents of a website \\\n",
    "and provides a short summary, ignoring text that might be navigation related. \\\n",
    "Respond in markdown.\""
   ]
  },
  {
   "cell_type": "code",
   "execution_count": 7,
   "id": "61ba3c94-4c0f-4a10-9af4-cbbfe98ad7b1",
   "metadata": {},
   "outputs": [],
   "source": [
    "def user_prompt_for(website):\n",
    "    user_prompt = f\"You are looking at a website titled {website.title}\"\n",
    "    user_prompt += \"\\nThe contents of this website is as follows; \\\n",
    "please provide a short summary of this website in markdown. \\\n",
    "If it includes news or announcements, then summarize these too.\\n\\n\"\n",
    "    user_prompt += website.text\n",
    "    return user_prompt"
   ]
  },
  {
   "cell_type": "code",
   "execution_count": 9,
   "id": "2080d74d-e3b0-41c0-a8b0-356106def26f",
   "metadata": {},
   "outputs": [],
   "source": [
    "def messages_for(website):\n",
    "    return [\n",
    "        {\"role\": \"system\", \"content\": system_prompt},\n",
    "        {\"role\": \"user\", \"content\": user_prompt_for(website)}\n",
    "    ]"
   ]
  },
  {
   "cell_type": "code",
   "execution_count": 11,
   "id": "6cc54ac6-e138-40f5-bead-651666c26dce",
   "metadata": {},
   "outputs": [],
   "source": [
    "def summarize(url):\n",
    "    website = Website(url)\n",
    "    response = ollama.chat(\n",
    "        model=\"llama3.2\", \n",
    "        messages=messages_for(website)\n",
    "    )\n",
    "    return response"
   ]
  },
  {
   "cell_type": "code",
   "execution_count": 13,
   "id": "28ca3d53-44fe-4902-975f-3af58f8ee18b",
   "metadata": {},
   "outputs": [],
   "source": [
    "context = summarize(\"https://www.aljazeera.com/\")"
   ]
  },
  {
   "cell_type": "code",
   "execution_count": 14,
   "id": "29f11e15-be3e-4393-bf5b-8a71e8057479",
   "metadata": {
    "scrolled": true
   },
   "outputs": [
    {
     "data": {
      "text/plain": [
       "ChatResponse(model='llama3.2', created_at='2024-11-22T11:14:20.112727438Z', done=True, done_reason='stop', total_duration=194526723129, load_duration=3625697982, prompt_eval_count=1549, prompt_eval_duration=148940000000, eval_count=218, eval_duration=40751000000, message=Message(role='assistant', content=\"**Summary of Al Jazeera Website**\\n\\n* **News and Announcements**\\n\\t+ Israeli air attack on Lebanon kills paramedics; ICC warrants issued for Netanyahu and Gallant\\n\\t+ Trump picks loyalist Pam Bondi as attorney general, Matt Gaetz withdraws\\n\\t+ Iran says activating 'advanced' centrifuges after IAEA censure\\n\\t+ At least 42 killed in sectarian violence in Pakistan's Khyber Pakhtunkhwa\\n* **Features**\\n\\t+ Ukraine war: Mapping the impact of climate change on global displacement\\n\\t+ Bollywood is turning to re-releases amid string of flops\\n\\t+ World reacts to ICC arrest warrants for Israel's Netanyahu, Gallant\\n* **Video**\\n\\t+ Putin: Russia tested intermediate-range missile on Ukraine\\n\\t+ White House 'fundamentally rejects' ICC warrants for Israeli leaders\\n\\t+ Going bananas: Duct-taped fresh fruit sells for millions at Sotheby's\\n\\nNote: This summary only includes text that is relevant to news, announcements, and features, and ignores navigation-related links.\", images=None, tool_calls=None))"
      ]
     },
     "execution_count": 14,
     "metadata": {},
     "output_type": "execute_result"
    }
   ],
   "source": [
    "context"
   ]
  },
  {
   "cell_type": "code",
   "execution_count": 15,
   "id": "dc65ab2b-84ed-42ef-acef-e3a945d0ab1b",
   "metadata": {},
   "outputs": [
    {
     "data": {
      "text/plain": [
       "\"**Summary of Al Jazeera Website**\\n\\n* **News and Announcements**\\n\\t+ Israeli air attack on Lebanon kills paramedics; ICC warrants issued for Netanyahu and Gallant\\n\\t+ Trump picks loyalist Pam Bondi as attorney general, Matt Gaetz withdraws\\n\\t+ Iran says activating 'advanced' centrifuges after IAEA censure\\n\\t+ At least 42 killed in sectarian violence in Pakistan's Khyber Pakhtunkhwa\\n* **Features**\\n\\t+ Ukraine war: Mapping the impact of climate change on global displacement\\n\\t+ Bollywood is turning to re-releases amid string of flops\\n\\t+ World reacts to ICC arrest warrants for Israel's Netanyahu, Gallant\\n* **Video**\\n\\t+ Putin: Russia tested intermediate-range missile on Ukraine\\n\\t+ White House 'fundamentally rejects' ICC warrants for Israeli leaders\\n\\t+ Going bananas: Duct-taped fresh fruit sells for millions at Sotheby's\\n\\nNote: This summary only includes text that is relevant to news, announcements, and features, and ignores navigation-related links.\""
      ]
     },
     "execution_count": 15,
     "metadata": {},
     "output_type": "execute_result"
    }
   ],
   "source": [
    "context.message.content"
   ]
  },
  {
   "cell_type": "code",
   "execution_count": 16,
   "id": "e8a1756f-e70c-43d8-a2b4-a47951a1adea",
   "metadata": {},
   "outputs": [
    {
     "data": {
      "text/markdown": [
       "**Summary of Al Jazeera Website**\n",
       "\n",
       "* **News and Announcements**\n",
       "\t+ Israeli air attack on Lebanon kills paramedics; ICC warrants issued for Netanyahu and Gallant\n",
       "\t+ Trump picks loyalist Pam Bondi as attorney general, Matt Gaetz withdraws\n",
       "\t+ Iran says activating 'advanced' centrifuges after IAEA censure\n",
       "\t+ At least 42 killed in sectarian violence in Pakistan's Khyber Pakhtunkhwa\n",
       "* **Features**\n",
       "\t+ Ukraine war: Mapping the impact of climate change on global displacement\n",
       "\t+ Bollywood is turning to re-releases amid string of flops\n",
       "\t+ World reacts to ICC arrest warrants for Israel's Netanyahu, Gallant\n",
       "* **Video**\n",
       "\t+ Putin: Russia tested intermediate-range missile on Ukraine\n",
       "\t+ White House 'fundamentally rejects' ICC warrants for Israeli leaders\n",
       "\t+ Going bananas: Duct-taped fresh fruit sells for millions at Sotheby's\n",
       "\n",
       "Note: This summary only includes text that is relevant to news, announcements, and features, and ignores navigation-related links."
      ],
      "text/plain": [
       "<IPython.core.display.Markdown object>"
      ]
     },
     "metadata": {},
     "output_type": "display_data"
    }
   ],
   "source": [
    "display(Markdown(context.message.content))"
   ]
  },
  {
   "cell_type": "code",
   "execution_count": null,
   "id": "0dc8d1be-b9be-4ed9-aac7-c2187b7e4f55",
   "metadata": {},
   "outputs": [],
   "source": []
  }
 ],
 "metadata": {
  "kernelspec": {
   "display_name": "Python 3 (ipykernel)",
   "language": "python",
   "name": "python3"
  },
  "language_info": {
   "codemirror_mode": {
    "name": "ipython",
    "version": 3
   },
   "file_extension": ".py",
   "mimetype": "text/x-python",
   "name": "python",
   "nbconvert_exporter": "python",
   "pygments_lexer": "ipython3",
   "version": "3.12.4"
  }
 },
 "nbformat": 4,
 "nbformat_minor": 5
}
